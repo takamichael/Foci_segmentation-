{
  "cells": [
    {
      "cell_type": "code",
      "execution_count": 1,
      "metadata": {
        "id": "cldeL5WNteap"
      },
      "outputs": [],
      "source": [
        "# import packages\n",
        "import os\n",
        "import torch\n",
        "import torchvision\n",
        "import torch.nn as nn\n",
        "import torchvision.transforms as transforms\n",
        "import torch.optim as optim\n",
        "import matplotlib.pyplot as plt\n",
        "import torch.nn.functional as F\n",
        "\n",
        "from torchvision import datasets\n",
        "from torch.utils.data import DataLoader\n",
        "from torchvision.utils import save_image\n",
        "import os\n",
        "from tifffile import imsave\n",
        "\n",
        "from sklearn.model_selection import train_test_split\n",
        "from sklearn.metrics import accuracy_score\n",
        "\n",
        "from skimage.transform import rotate\n",
        "from skimage.util import random_noise\n",
        "from skimage.filters import gaussian\n",
        "from scipy import ndimage\n",
        "\n",
        "\"\"\"Align crop images for Changhui and Jie's experiment data using the confocol\n",
        "Use the gfp signal to preselect the in focus images\n",
        "\"\"\"\n",
        "%matplotlib inline\n",
        "import scipy.ndimage as ndimage\n",
        "import matplotlib.patches as mpatches\n",
        "from scipy.stats import linregress\n",
        "import scipy.stats\n",
        "import scipy.signal\n",
        "import scipy.spatial\n",
        "import pandas as pd\n",
        "import numpy as np\n",
        "import math, re, os\n",
        "import matplotlib as mpl\n",
        "import matplotlib.pyplot as plt\n",
        "from matplotlib.backends.backend_pdf import PdfPages\n",
        "from sklearn import linear_model\n",
        "from datetime import datetime\n",
        "from skimage import filters\n",
        "import skimage, skimage.io, skimage.feature\n",
        "#from skimage.feature import register_translation\n",
        "from skimage.filters import roberts, sobel, scharr, prewitt\n",
        "#from skimage.feature.register_translation import _upsampled_dft\n",
        "\n",
        "from skimage.filters import threshold_otsu\n",
        "from skimage.segmentation import clear_border\n",
        "from skimage.measure import label, regionprops\n",
        "from skimage.morphology import closing, square\n",
        "from skimage.color import label2rgb\n",
        "\n",
        "import glob\n",
        "#from sklearn.datasets.samples_generator import make_blobs\n",
        "from sklearn.mixture import GaussianMixture\n",
        "\n",
        "from skimage.measure import label, regionprops\n",
        "\n",
        "import time as Time\n",
        "from skimage.morphology import remove_small_objects\n",
        "from skimage.measure import find_contours\n",
        "import scipy.ndimage as ndimage\n",
        "from scipy import ndimage as ndi\n",
        "import pylab\n",
        "from skimage.segmentation import flood\n",
        "import cv2\n",
        "import numpy as np\n",
        "from statistics import stdev"
      ]
    },
    {
      "cell_type": "code",
      "execution_count": 2,
      "metadata": {
        "id": "uPRgI853t4LN"
      },
      "outputs": [],
      "source": [
        "##### import torch\n",
        "from torch.utils.data import Dataset, DataLoader\n",
        "from torchvision import transforms, datasets, models\n",
        "from torch.utils.data import DataLoader, random_split\n",
        "import matplotlib.pyplot as plt\n",
        "import numpy as np\n",
        "import helper\n",
        "from PIL import Image, ImageDraw\n",
        "from scipy import ndimage as ndi\n",
        "from skimage.morphology import remove_small_objects\n",
        "from skimage.color import rgba2rgb\n",
        "from skimage import data\n",
        "import os\n",
        "import tifffile as tiff\n",
        "import torch.optim as optim\n",
        "import torch.nn.functional as F\n",
        "import copy\n",
        "import tensorflow as tf\n",
        "from skimage.filters import threshold_otsu"
      ]
    },
    {
      "cell_type": "code",
      "source": [
        "# Gaussian Mixture Model\n",
        "from sklearn.mixture import GaussianMixture\n",
        "from sklearn import mixture\n",
        "\n",
        "def gausmix( mask):\n",
        "    \"\"\"This is to calculate the GFP max using Gaussian mixture model,\n",
        "    df will be your aligned GFP or RFP followed by the mask which will be the maskquant\n",
        "    Afterwords we pick the highest mean avalible \"\"\"\n",
        "\n",
        "    X =   mask # turn it into a 2D array but really 1D 806, 1 example\n",
        "    gmm = mixture.GaussianMixture(n_components=2).fit(X)\n",
        "    maxgmm = np.max(gmm.means_)\n",
        "    mingmm = np.min(gmm.means_)\n",
        "    return maxgmm, mingmm  # returns the mixture component greatest min"
      ],
      "metadata": {
        "id": "dX_ue5yJqIBy"
      },
      "execution_count": 3,
      "outputs": []
    },
    {
      "cell_type": "code",
      "execution_count": 4,
      "metadata": {
        "colab": {
          "base_uri": "https://localhost:8080/"
        },
        "id": "FR3UU9Nxt6hx",
        "outputId": "186270a0-4c6a-4336-ee01-1abf000792e3"
      },
      "outputs": [
        {
          "output_type": "stream",
          "name": "stdout",
          "text": [
            "Mounted at /content/drive\n"
          ]
        }
      ],
      "source": [
        " from google.colab import drive\n",
        "drive.mount('/content/drive') # mounting google drive so I can access files and save files\n",
        "os.chdir('/content/drive/My Drive/') # changing Directories so that this is the default"
      ]
    },
    {
      "cell_type": "code",
      "execution_count": 5,
      "metadata": {
        "colab": {
          "base_uri": "https://localhost:8080/"
        },
        "id": "PI5Ut0u5t9IS",
        "outputId": "985ca952-8611-4866-b9ce-547b0e7c3874"
      },
      "outputs": [
        {
          "output_type": "stream",
          "name": "stdout",
          "text": [
            "Creation of the directory /content/drive/My Drive/unet/training_data failed\n"
          ]
        }
      ],
      "source": [
        "import os\n",
        "\n",
        "# define the name of the directory to be created\n",
        "unetpath = os.getcwd() + '/unet'\n",
        "path = os.getcwd() + '/unet/training_data'\n",
        "try:\n",
        "    os.mkdir(unetpath)\n",
        "    os.mkdir(path)\n",
        "except OSError:\n",
        "    print (\"Creation of the directory %s failed\" % path)\n",
        "else:\n",
        "    print (\"Successfully created the directory %s \" % path)\n"
      ]
    },
    {
      "cell_type": "code",
      "execution_count": 6,
      "metadata": {
        "id": "pFcxFzOkQd6z"
      },
      "outputs": [],
      "source": [
        "path1 = path+ '/foci_segment'\n",
        "path2 = path+ '/foci_segment'\n",
        "\n"
      ]
    },
    {
      "cell_type": "code",
      "execution_count": 7,
      "metadata": {
        "id": "yIhg3dqhcrBD"
      },
      "outputs": [],
      "source": [
        "from itertools import repeat\n",
        "import random\n",
        "import torchvision.transforms.functional as TF\n",
        "import torchvision.transforms as T\n",
        "from skimage.filters import unsharp_mask\n",
        "\n",
        "\n",
        "\n",
        "\n",
        "\n",
        "\n",
        "class imageDataGenerator(Dataset):\n",
        "    global image, mask\n",
        "    def __init__(self, img_dir= path1, annotation_dir=path2, transformme = True  ):\n",
        "        self.img_dir = img_dir # what directory are the images in\n",
        "        #self.annotation_dir = annotation_dir # what directory are the annotations in\n",
        "\n",
        "\n",
        "        self.img_names = set(df['file'].values)\n",
        "        self.img_names = [os.path.join(img_dir, img_name) for img_name in self.img_names] # join folder and file names\n",
        "\n",
        "        #self.annotation_names = set(df['file'].values) # list all annotation files\n",
        "        #self.annotation_names = [os.path.join(annotation_dir, ann_name) for ann_name in self.annotation_names] # join folder and file names\n",
        "\n",
        "        self.transformme = transformme # to be used for the transform function\n",
        "\n",
        "\n",
        "\n",
        "\n",
        "    def transform(self, image, mask ):\n",
        "        resize  = (image.shape[0], image.shape[1])\n",
        "        if image.shape != (resize[0], resize[1]):\n",
        "          image = cv2.resize(image, (resize[0], resize[1])).astype(np.float32)\n",
        "\n",
        "        if self.transformme is True:\n",
        "\n",
        "\n",
        "          # random Erasing making random shapes and fill in the picture to zero # didn't work so well for the model\n",
        "          if random.random() < 0.25:\n",
        "              box, labels = skimage.draw.random_shapes(resize, max_shapes=1, min_size=5, max_size =15) # change shape size\n",
        "              maskerase = box[:,:,1] < np.mean(box[:,:,1])  # gives three channels we just need one, get mean over and we get a random shape as a mask\n",
        "              if random.random() > .5: # replace the shape region with zero\n",
        "                  image[maskerase] = 0\n",
        "                  mask[maskerase] = 0\n",
        "              else:  # replace the shape region with random variables in the image\n",
        "                  image2 = image.copy()\n",
        "                  np.random.shuffle(image2)\n",
        "                  image[maskerase] = image2[maskerase]\n",
        "                  mask[maskerase] = 0\n",
        "\n",
        "\n",
        "          image = TF.to_pil_image(image)\n",
        "          mask = TF.to_pil_image(mask )\n",
        "\n",
        "\n",
        "          # Random horizontal flipping\n",
        "          if random.random() > 0.5:\n",
        "              image = TF.hflip(image)\n",
        "              mask = TF.hflip(mask)\n",
        "\n",
        "          #Random Vertical flipping\n",
        "          if random.random() > 0.5:\n",
        "              image = TF.vflip(image)\n",
        "              mask = TF.vflip(mask)\n",
        "\n",
        "\n",
        "\n",
        "\n",
        "          # random rotations\n",
        "          if random.random() > 0.5:\n",
        "              rotations = [0,45,90,135,270]\n",
        "              angle = random.choice(rotations)\n",
        "              image = TF.rotate(image, angle)\n",
        "              mask = TF.rotate(mask, angle)\n",
        "\n",
        "          #Gaussian Blur\n",
        "          if random.random() > 0.5:\n",
        "            image= ndi.gaussian_filter(image, sigma = 2 ) #5\n",
        "            image = TF.to_pil_image(image)\n",
        "\n",
        "          # Randome Gaussian Noise -- only for images\n",
        "          if random.random() < 0.25:\n",
        "              factor_param = random.uniform(0.01, 0.5)\n",
        "              std = np.std(image)\n",
        "              image = image + factor_param * std * np.random.randn(40,40) # change this size to the size of the image\n",
        "\n",
        "\n",
        "\n",
        "          # peforming translation\n",
        "          if random.random() > 0.4:\n",
        "              fills = [ 'constant','wrap'  ] # 'mirror', 'reflect'\n",
        "              fill = random.choice(fills)\n",
        "              numbs = range(-10,10)\n",
        "              numb1 = random.choice(numbs )\n",
        "              numb2 = random.choice(numbs)\n",
        "              image = scipy.ndimage.shift(image, [numb1,numb2 ], mode= fill)\n",
        "\n",
        "              mask = scipy.ndimage.shift(mask, [numb1,numb2 ], mode= fill)\n",
        "              #mask = mask >= 1 # shifting is changing the values of the mask must bring it back\n",
        "\n",
        "\n",
        "        # Redo normalizations if not 0 or 1\n",
        "        if (np.min(image) != 0)  or (np.max(image) != 1): # incase augmentation changed the scale from 0-1 this will revert it\n",
        "            image = (image - np.min(image))/ (np.max(image)- np.min(image)) # normalize it to 0-1\n",
        "\n",
        "\n",
        "        minmask = (np.max(mask)- np.min(mask))\n",
        "        if minmask== 0:\n",
        "          minmask += .000000000000000000000000000000000000000000000001\n",
        "\n",
        "        mask = (mask - np.min(mask))/minmask   # normalize it to 0-1\n",
        "\n",
        "        mask = mask > np.mean(mask) # for the translational shifts\n",
        "        mask = mask.astype(np.float32)\n",
        "\n",
        "\n",
        "        # Transform to tensor\n",
        "        image = TF.to_tensor(image)\n",
        "        mask = TF.to_tensor(mask  )\n",
        "        mask = torch.nan_to_num(mask, nan=0.0  )\n",
        "        #mask = mask >0 # ensure it is a boolan value\n",
        "        mask = mask #.float()\n",
        "        return image, mask\n",
        "\n",
        "\n",
        "\n",
        "\n",
        "    def __getitem__(self, idx, max_attempts=10):\n",
        "        \"\"\" this will increase your dataset by rotating, flipping, and adding noise\n",
        "        will increase your dataset 7 times!\n",
        "        rotating 45, 90, 135, 224, 270 degrees\n",
        "        will return a numpy array to a tensorflow \"\"\"\n",
        "        resize = (40, 40) # change this resizing\n",
        "        img_name = self.img_names[idx] # get the path of the image at that index\n",
        "        #ann_name = self.annotation_names[idx]\n",
        "\n",
        "\n",
        "        if '_ORG.tif' in img_name:\n",
        "          image = skimage.io.imread(img_name).astype(np.float32) # open the image using the path\n",
        "          mask = skimage.io.imread(img_name.replace('ORG', 'mask')).astype(np.float32)\n",
        "\n",
        "\n",
        "\n",
        "        if image.shape != (40,40):\n",
        "          image = cv2.resize(image, (40, 40))\n",
        "          mask = cv2.resize(mask, (40, 40))\n",
        "        # if the image is not normalzie it will be normalzied\n",
        "        if (image.min() != 0)  or (image.max() != 1):\n",
        "            image = (image - np.min(image))/ (np.max(image)- np.min(image)) # normalize it to 0-1\n",
        "\n",
        "\n",
        "        image = image.astype(np.float32) # musthave as float so that tensorflow views it as a float not double or numpy array\n",
        "\n",
        "        image, mask = self.transform(image, mask )\n",
        "\n",
        "\n",
        "\n",
        "\n",
        "        return [image, mask]\n",
        "\n",
        "    def __len__(self):\n",
        "        return len(self.img_names) # length of the image dicationary\n",
        "\n",
        "\n"
      ]
    },
    {
      "cell_type": "markdown",
      "source": [
        "from itertools import repeat\n",
        "import random\n",
        "import torchvision.transforms.functional as TF\n",
        "import torchvision.transforms as T\n",
        "from skimage.filters import unsharp_mask\n",
        "\n",
        "\n",
        "\n",
        "\n",
        "\n",
        "\n",
        "class imageDataGenerator(Dataset):\n",
        "    global image, mask\n",
        "    def __init__(self, img_dir= path1, annotation_dir=path2, transformme = True  ):\n",
        "        self.img_dir = img_dir # what directory are the images in\n",
        "        #self.annotation_dir = annotation_dir # what directory are the annotations in\n",
        "\n",
        "\n",
        "        self.img_names = set(df['file'].values)\n",
        "        self.img_names = [os.path.join(img_dir, img_name) for img_name in self.img_names] # join folder and file names\n",
        "\n",
        "        #self.annotation_names = set(df['file'].values) # list all annotation files\n",
        "        #self.annotation_names = [os.path.join(annotation_dir, ann_name) for ann_name in self.annotation_names] # join folder and file names\n",
        "\n",
        "        self.transformme = transformme # to be used for the transform function\n",
        "\n",
        "\n",
        "\n",
        "\n",
        "    def transform(self, image, mask ):\n",
        "        resize  = (image.shape[0], image.shape[1])\n",
        "        if image.shape != (resize[0], resize[1]):\n",
        "          image = cv2.resize(image, (resize[0], resize[1])).astype(np.float32)\n",
        "\n",
        "        if self.transformme is True:\n",
        "\n",
        "\n",
        "          # random Erasing making random shapes and fill in the picture to zero # didn't work so well for the model\n",
        "          if random.random() < 0.25:\n",
        "              box, labels = skimage.draw.random_shapes(resize, max_shapes=1, min_size=5, max_size =15) # change shape size\n",
        "              maskerase = box[:,:,1] < np.mean(box[:,:,1])  # gives three channels we just need one, get mean over and we get a random shape as a mask\n",
        "              if random.random() > .5: # replace the shape region with zero\n",
        "                  image[maskerase] = 0\n",
        "                  mask[maskerase] = 0\n",
        "              else:  # replace the shape region with random variables in the image\n",
        "                  image2 = image.copy()\n",
        "                  np.random.shuffle(image2)\n",
        "                  image[maskerase] = image2[maskerase]\n",
        "                  mask[maskerase] = 0\n",
        "\n",
        "\n",
        "          image = TF.to_pil_image(image)\n",
        "          mask = TF.to_pil_image(mask )\n",
        "\n",
        "\n",
        "\n",
        "\n",
        "\n",
        "\n",
        "          # peforming translation\n",
        "          if random.random() > 0.4:\n",
        "              fills = [ 'constant','wrap'  ] # 'mirror', 'reflect'\n",
        "              fill = random.choice(fills)\n",
        "              numbs = range(-10,10)\n",
        "              numb1 = random.choice(numbs )\n",
        "              numb2 = random.choice(numbs)\n",
        "              image = scipy.ndimage.shift(image, [numb1,numb2 ], mode= fill)\n",
        "\n",
        "              mask = scipy.ndimage.shift(mask, [numb1,numb2 ], mode= fill)\n",
        "              #mask = mask >= 1 # shifting is changing the values of the mask must bring it back\n",
        "\n",
        "\n",
        "        # Redo normalizations if not 0 or 1\n",
        "        if (np.min(image) != 0)  or (np.max(image) != 1): # incase augmentation changed the scale from 0-1 this will revert it\n",
        "            image = (image - np.min(image))/ (np.max(image)- np.min(image)) # normalize it to 0-1\n",
        "\n",
        "\n",
        "        minmask = (np.max(mask)- np.min(mask))\n",
        "        if minmask== 0:\n",
        "          minmask += .000000000000000000000000000000000000000000000001\n",
        "\n",
        "        mask = (mask - np.min(mask))/minmask   # normalize it to 0-1\n",
        "\n",
        "        mask = mask > np.mean(mask) # for the translational shifts\n",
        "        mask = mask.astype(np.float32)\n",
        "\n",
        "\n",
        "        # Transform to tensor\n",
        "        image = TF.to_tensor(image)\n",
        "        mask = TF.to_tensor(mask  )\n",
        "        mask = torch.nan_to_num(mask, nan=0.0  )\n",
        "        #mask = mask >0 # ensure it is a boolan value\n",
        "        mask = mask #.float()\n",
        "        return image, mask\n",
        "\n",
        "\n",
        "\n",
        "\n",
        "    def __getitem__(self, idx, max_attempts=10):\n",
        "        \"\"\" this will increase your dataset by rotating, flipping, and adding noise\n",
        "        will increase your dataset 7 times!\n",
        "        rotating 45, 90, 135, 224, 270 degrees\n",
        "        will return a numpy array to a tensorflow \"\"\"\n",
        "        resize = (512, 512) # change this resizing\n",
        "        img_name = self.img_names[idx] # get the path of the image at that index\n",
        "        #ann_name = self.annotation_names[idx]\n",
        "\n",
        "\n",
        "        if '_ORG.tif' in img_name:\n",
        "          image = skimage.io.imread(img_name).astype(np.float32) # open the image using the path\n",
        "          mask = skimage.io.imread(img_name.replace('ORG', 'mask')).astype(np.float32)\n",
        "\n",
        "\n",
        "\n",
        "        if image.shape != (512,512):\n",
        "          image = cv2.resize(image, (512, 512))\n",
        "          mask = cv2.resize(mask, (512, 512))\n",
        "        # if the image is not normalzie it will be normalzied\n",
        "        if (image.min() != 0)  or (image.max() != 1):\n",
        "            image = (image - np.min(image))/ (np.max(image)- np.min(image)) # normalize it to 0-1\n",
        "\n",
        "\n",
        "        image = image.astype(np.float32) # musthave as float so that tensorflow views it as a float not double or numpy array\n",
        "\n",
        "        image, mask = self.transform(image, mask )\n",
        "\n",
        "\n",
        "\n",
        "\n",
        "        return [image, mask]\n",
        "\n",
        "    def __len__(self):\n",
        "        return len(self.img_names) # length of the image dicationary\n"
      ],
      "metadata": {
        "id": "EY1Zezu45A7V"
      }
    },
    {
      "cell_type": "markdown",
      "metadata": {
        "id": "-KazIAgxvJ0Q"
      },
      "source": [
        "### Checking Experimental Data\n",
        "despite normalizations we could still see differences in the images taken from different experiments.\n",
        "If the differences between the mean and variance are apparent we will need to do a batch normalization during training!"
      ]
    },
    {
      "cell_type": "markdown",
      "metadata": {
        "id": "v8jahBdKvMxV"
      },
      "source": [
        "## Make the Training Data"
      ]
    },
    {
      "cell_type": "code",
      "execution_count": 8,
      "metadata": {
        "colab": {
          "base_uri": "https://localhost:8080/"
        },
        "id": "mOHgtjVqErsi",
        "outputId": "c6b79649-016c-40d1-be2a-71b8bf368fce"
      },
      "outputs": [
        {
          "output_type": "execute_result",
          "data": {
            "text/plain": [
              "(653, 1)"
            ]
          },
          "metadata": {},
          "execution_count": 8
        }
      ],
      "source": [
        "\n",
        "\n",
        "yeazpath =  path+ '/foci_segment'\n",
        "l = []\n",
        "for file in os.listdir(yeazpath):\n",
        "  if   'ORG.tif' in file:\n",
        "    l.append(file)\n",
        "yeazdf = pd. DataFrame(l)\n",
        "yeazdf.columns = ['file']\n",
        "yeazdf.shape"
      ]
    },
    {
      "cell_type": "code",
      "source": [
        "\n",
        "\n",
        "from sklearn.utils import shuffle\n",
        "filedf = yeazdf\n",
        "filedf = shuffle(filedf) # shuffle your data\n",
        "\n",
        "# splitting dataframes\n",
        "traindf = filedf.loc[~(filedf['file'].str.startswith('63x_6_10_22'))]\n",
        "testdf = filedf.loc[filedf['file'].str.startswith('63x_6_10_22')]\n",
        "\n",
        "# traindf\n",
        "traindf = yeazdf.set_index('file').drop(testdf['file']).reset_index()\n",
        "\n",
        "print(  'traindf {}'.format(traindf.shape[0]), '\\n',\n",
        "      'testdf {}'.format(testdf.shape[0]), '\\n', 'Total {}'.format(filedf.shape[0]))"
      ],
      "metadata": {
        "colab": {
          "base_uri": "https://localhost:8080/"
        },
        "id": "EsjvEx4qMpFN",
        "outputId": "b1467737-2f77-4021-f9d3-4eb2763f5105"
      },
      "execution_count": 9,
      "outputs": [
        {
          "output_type": "stream",
          "name": "stdout",
          "text": [
            "traindf 628 \n",
            " testdf 25 \n",
            " Total 653\n"
          ]
        }
      ]
    },
    {
      "cell_type": "markdown",
      "source": [
        "x = filedf.loc[~(filedf['file'].str.startswith('16_326_4_b_-0031'))]\n",
        "\n",
        "traindf = x.loc[x['file'].str.startswith('16_3')]\n",
        "\n",
        "\n",
        "traindf.shape\n"
      ],
      "metadata": {
        "id": "XFDIh1N2DPm-"
      }
    },
    {
      "cell_type": "code",
      "execution_count": 10,
      "metadata": {
        "id": "UjWzGKbicucN"
      },
      "outputs": [],
      "source": [
        "# loading in your dataset from the DataFrame\n",
        "#train_set, mask_stack1 = loaddata(traindf,path1,path2 ) # default turns images to 40X40 unless resize is changed\n",
        "df = traindf\n",
        "train_dataset =imageDataGenerator( transformme = True) # increasing dataset 8 fold\n",
        "\n",
        "del df\n",
        "\n",
        "#val_set, mask_stack2  = loaddata(testdf,path1,path2 )\n",
        "df = testdf\n",
        "test_dataset =imageDataGenerator( transformme = False) # increasing dataset 8 fold\n",
        "del df\n",
        "\n",
        "batch_size =25 #dividng your whole data in batches\n",
        "dataloaders = {\n",
        "    'train': DataLoader(train_dataset, batch_size=batch_size, shuffle=True, num_workers=0 ),\n",
        "    'val': DataLoader(test_dataset, batch_size=batch_size, shuffle=True, num_workers=0  )\n",
        "}\n",
        "\n",
        "# seperating the dataset\n",
        "train_loader = dataloaders['train']\n",
        "test_loader = dataloaders['val']"
      ]
    },
    {
      "cell_type": "code",
      "source": [
        "0\n",
        "# Get a batch of training data\n",
        "inputs, masks = next(iter(dataloaders['train']))\n",
        "\n",
        "print(inputs.shape, masks.shape)\n",
        "f, (ax1, ax2) = plt.subplots(1,2, figsize = (10,10))\n",
        "#plt.imshow(inputs[0][0] )\n",
        "print('label', masks[0])\n",
        "ax1.imshow(inputs[0][0])\n",
        "ax2.imshow(masks[0][0])\n"
      ],
      "metadata": {
        "colab": {
          "base_uri": "https://localhost:8080/",
          "height": 570
        },
        "id": "NHO87Brnd1nE",
        "outputId": "4dab128c-b6ae-4ab3-e553-5f72c0118a0d"
      },
      "execution_count": 64,
      "outputs": [
        {
          "output_type": "stream",
          "name": "stdout",
          "text": [
            "torch.Size([25, 1, 40, 40]) torch.Size([25, 1, 40, 40])\n",
            "label tensor([[[0., 0., 0.,  ..., 0., 0., 0.],\n",
            "         [0., 0., 0.,  ..., 0., 0., 0.],\n",
            "         [0., 0., 0.,  ..., 0., 0., 0.],\n",
            "         ...,\n",
            "         [0., 0., 0.,  ..., 0., 0., 0.],\n",
            "         [0., 0., 0.,  ..., 0., 0., 0.],\n",
            "         [0., 0., 0.,  ..., 0., 0., 0.]]])\n"
          ]
        },
        {
          "output_type": "execute_result",
          "data": {
            "text/plain": [
              "<matplotlib.image.AxesImage at 0x7e794c192290>"
            ]
          },
          "metadata": {},
          "execution_count": 64
        },
        {
          "output_type": "display_data",
          "data": {
            "text/plain": [
              "<Figure size 1000x1000 with 2 Axes>"
            ],
            "image/png": "[encoded data removed]"
          },
          "metadata": {}
        }
      ]
    },
    {
      "cell_type": "markdown",
      "source": [],
      "metadata": {
        "id": "dAUGftsdmuRk"
      }
    },
    {
      "cell_type": "code",
      "source": [
        " \"\"\"Cut Mix augmentation \"\"\"\n",
        "def rand_bbox(size, lam):\n",
        "    W = size[2]\n",
        "    H = size[3]\n",
        "    cut_rat = np.sqrt(1. - lam)\n",
        "\n",
        "    cut_w = np.int(W * cut_rat)\n",
        "    cut_h = np.int(H * cut_rat)\n",
        "\n",
        "    cx = np.random.randint(W)\n",
        "    cy = np.random.randint(H)\n",
        "\n",
        "    bbx1 = np.clip(cx - cut_w // 2, 0, W)\n",
        "    bby1 = np.clip(cy - cut_h // 2, 0, H)\n",
        "    bbx2 = np.clip(cx + cut_w // 2, 0, W)\n",
        "    bby2 = np.clip(cy + cut_h // 2, 0, H)\n",
        "\n",
        "    return bbx1, bby1, bbx2, bby2\n",
        "\n",
        "inputs, masks = next(iter(dataloaders['train']))\n",
        "inputs_clone = inputs.clone() # clone inputs for mixing\n",
        "masks_clone = masks.clone() # clone masks for mixing\n",
        "\n",
        "rand1 = random.uniform(1,4)\n",
        "rand2 = random.uniform(1,4)\n",
        "\n",
        "for i in range(inputs.size(0)): # iterate over each image/mask in the batch\n",
        "    lam = np.random.beta(rand1, rand2)\n",
        "    rand_index = random.randrange(inputs.size(0))\n",
        "\n",
        "    bbx1, bby1, bbx2, bby2 = rand_bbox(inputs.size(), lam)\n",
        "    inputs[i, :, bbx1:bbx2, bby1:bby2] = inputs_clone[rand_index, :, bbx1:bbx2, bby1:bby2] # patch image\n",
        "    masks[i, :, bbx1:bbx2, bby1:bby2] = masks_clone[rand_index, :, bbx1:bbx2, bby1:bby2] # patch mask\n",
        "\n",
        "    # adjust lambda to exactly match pixel ratio\n",
        "    lam = 1 - ((bbx2 - bbx1) * (bby2 - bby1) / (inputs.size()[-1] * inputs.size()[-2]))\n",
        "    masks = (masks - masks.min()) / (masks.max() - masks.min()) # renormalize again JUST in case\n",
        "\n"
      ],
      "metadata": {
        "colab": {
          "base_uri": "https://localhost:8080/"
        },
        "id": "RRQ4BNyOOcHg",
        "outputId": "3441ca20-d2d4-4753-cc89-452c3a650a26"
      },
      "execution_count": 65,
      "outputs": [
        {
          "output_type": "stream",
          "name": "stderr",
          "text": [
            "<ipython-input-65-1fe27e2d3cb9>:7: DeprecationWarning: `np.int` is a deprecated alias for the builtin `int`. To silence this warning, use `int` by itself. Doing this will not modify any behavior and is safe. When replacing `np.int`, you may wish to use e.g. `np.int64` or `np.int32` to specify the precision. If you wish to review your current use, check the release note link for additional information.\n",
            "Deprecated in NumPy 1.20; for more details and guidance: https://numpy.org/devdocs/release/1.20.0-notes.html#deprecations\n",
            "  cut_w = np.int(W * cut_rat)\n",
            "<ipython-input-65-1fe27e2d3cb9>:8: DeprecationWarning: `np.int` is a deprecated alias for the builtin `int`. To silence this warning, use `int` by itself. Doing this will not modify any behavior and is safe. When replacing `np.int`, you may wish to use e.g. `np.int64` or `np.int32` to specify the precision. If you wish to review your current use, check the release note link for additional information.\n",
            "Deprecated in NumPy 1.20; for more details and guidance: https://numpy.org/devdocs/release/1.20.0-notes.html#deprecations\n",
            "  cut_h = np.int(H * cut_rat)\n"
          ]
        }
      ]
    },
    {
      "cell_type": "code",
      "source": [
        "sample =3\n",
        "\n",
        "f, (ax1, ax2) = plt.subplots(1,2, figsize = (10,10))\n",
        "\n",
        "print('label', masks[sample])\n",
        "ax1.imshow(inputs[sample][0])\n",
        "ax2.imshow(masks[sample][0])"
      ],
      "metadata": {
        "colab": {
          "base_uri": "https://localhost:8080/",
          "height": 553
        },
        "id": "06HTV1MiP8eX",
        "outputId": "1e086771-84fd-4167-f28f-ea0b9e434a76"
      },
      "execution_count": 69,
      "outputs": [
        {
          "output_type": "stream",
          "name": "stdout",
          "text": [
            "label tensor([[[0., 0., 0.,  ..., 0., 0., 0.],\n",
            "         [0., 0., 0.,  ..., 0., 0., 0.],\n",
            "         [0., 0., 0.,  ..., 0., 0., 0.],\n",
            "         ...,\n",
            "         [0., 0., 0.,  ..., 0., 0., 0.],\n",
            "         [0., 0., 0.,  ..., 0., 0., 0.],\n",
            "         [0., 0., 0.,  ..., 0., 0., 0.]]])\n"
          ]
        },
        {
          "output_type": "execute_result",
          "data": {
            "text/plain": [
              "<matplotlib.image.AxesImage at 0x7e791df1a350>"
            ]
          },
          "metadata": {},
          "execution_count": 69
        },
        {
          "output_type": "display_data",
          "data": {
            "text/plain": [
              "<Figure size 1000x1000 with 2 Axes>"
            ],
            "image/png": "[encoded data removed]"
          },
          "metadata": {}
        }
      ]
    },
    {
      "cell_type": "code",
      "execution_count": 14,
      "metadata": {
        "id": "-k2GPHUYEr9R"
      },
      "outputs": [],
      "source": [
        "#@title\n",
        "import torch\n",
        "import torch.nn as nn\n",
        "import torch.nn.functional as F\n",
        "\n",
        "#https://theaisummer.com/unet-architectures/\n",
        "\n",
        "class DoubleConv(nn.Module):\n",
        "    def __init__(self, in_ch, out_ch):\n",
        "        super(DoubleConv, self).__init__()\n",
        "        self.conv = nn.Sequential(\n",
        "            nn.Conv2d(in_ch, out_ch, 3, padding=1),\n",
        "            nn.BatchNorm2d(out_ch),\n",
        "            nn.ReLU(inplace=True),\n",
        "            nn.Conv2d(out_ch, out_ch, 3, padding=1),\n",
        "            nn.BatchNorm2d(out_ch),\n",
        "            nn.ReLU(inplace=True))\n",
        "\n",
        "    def forward(self, x):\n",
        "        x = self.conv(x)\n",
        "        return x\n",
        "\n",
        "\n",
        "class InConv(nn.Module):\n",
        "    def __init__(self, in_ch, out_ch):\n",
        "        super(InConv, self).__init__()\n",
        "        self.conv = DoubleConv(in_ch, out_ch)\n",
        "\n",
        "    def forward(self, x):\n",
        "        x = self.conv(x)\n",
        "        return x\n",
        "\n",
        "\n",
        "class Down(nn.Module):\n",
        "    def __init__(self, in_ch, out_ch):\n",
        "        super(Down, self).__init__()\n",
        "        self.mpconv = nn.Sequential(\n",
        "            nn.MaxPool2d(2),\n",
        "            DoubleConv(in_ch, out_ch)\n",
        "        )\n",
        "\n",
        "    def forward(self, x):\n",
        "        x = self.mpconv(x)\n",
        "        return x\n",
        "\n",
        "\n",
        "class Up(nn.Module):\n",
        "    def __init__(self, in_ch, out_ch, bilinear=True):\n",
        "        super(Up, self).__init__()\n",
        "\n",
        "        if bilinear:\n",
        "            self.up = nn.Upsample(scale_factor=2, mode='bilinear', align_corners=True)\n",
        "        else:\n",
        "            self.up = nn.ConvTranspose2d(in_ch // 2, in_ch // 2, 2, stride=2)\n",
        "\n",
        "        self.conv = DoubleConv(in_ch, out_ch)\n",
        "\n",
        "    def forward(self, x1, x2):\n",
        "        x1 = self.up(x1)\n",
        "\n",
        "        diffY = x2.size()[2] - x1.size()[2]\n",
        "        diffX = x2.size()[3] - x1.size()[3]\n",
        "\n",
        "        x1 = F.pad(x1, (diffX // 2, diffX - diffX // 2,\n",
        "                        diffY // 2, diffY - diffY // 2))\n",
        "        x = torch.cat([x2, x1], dim=1)\n",
        "        x = self.conv(x)\n",
        "        return x\n",
        "\n",
        "\n",
        "class OutConv(nn.Module):\n",
        "    def __init__(self, in_ch, out_ch):\n",
        "        super(OutConv, self).__init__()\n",
        "        self.conv = nn.Conv2d(in_ch, out_ch, 1)\n",
        "\n",
        "    def forward(self, x):\n",
        "        x = self.conv(x)\n",
        "        return x\n",
        "\n",
        "class Unet(nn.Module):\n",
        "    def __init__(self, in_channels, classes):\n",
        "        super(Unet, self).__init__()\n",
        "        self.n_channels = in_channels\n",
        "        self.n_classes =  classes\n",
        "\n",
        "        self.inc = InConv(in_channels, 64)\n",
        "        self.down1 = Down(64, 128)\n",
        "        self.down2 = Down(128, 256)\n",
        "        self.down3 = Down(256, 512)\n",
        "        self.down4 = Down(512, 512)\n",
        "        self.up1 = Up(1024, 256)\n",
        "        self.up2 = Up(512, 128)\n",
        "        self.up3 = Up(256, 64)\n",
        "        self.up4 = Up(128, 64)\n",
        "        self.outc = OutConv(64, classes)\n",
        "\n",
        "    def forward(self, x):\n",
        "        x1 = self.inc(x)\n",
        "        x2 = self.down1(x1)\n",
        "        x3 = self.down2(x2)\n",
        "        x4 = self.down3(x3)\n",
        "        x5 = self.down4(x4)\n",
        "        x = self.up1(x5, x4)\n",
        "        x = self.up2(x, x3)\n",
        "        x = self.up3(x, x2)\n",
        "        x = self.up4(x, x1)\n",
        "        x = self.outc(x)\n",
        "        return x"
      ]
    },
    {
      "cell_type": "code",
      "execution_count": 15,
      "metadata": {
        "id": "OMIUs31aEydx"
      },
      "outputs": [],
      "source": [
        "model = Unet(1,2)"
      ]
    },
    {
      "cell_type": "code",
      "execution_count": 16,
      "metadata": {
        "colab": {
          "base_uri": "https://localhost:8080/"
        },
        "id": "82d40ZnKh7H0",
        "outputId": "9ca46d2e-a0b3-48d9-8a78-c86fd025f27a"
      },
      "outputs": [
        {
          "output_type": "stream",
          "name": "stdout",
          "text": [
            "device used cuda\n"
          ]
        }
      ],
      "source": [
        "if torch.cuda.is_available():\n",
        "  device = torch.device(\"cuda\")\n",
        "else:\n",
        "  device = torch.device('cpu')\n",
        "\n",
        "print('device used {}'.format(device))"
      ]
    },
    {
      "cell_type": "code",
      "source": [
        "import time\n",
        "from torch.optim.lr_scheduler import StepLR\n",
        "\n",
        "import time\n",
        "from torch.optim.lr_scheduler import StepLR\n",
        "\n",
        "def rand_bbox(size, lam):\n",
        "    W = size[2]\n",
        "    H = size[3]\n",
        "    cut_rat = np.sqrt(1. - lam)\n",
        "\n",
        "    cut_w = np.int32(W * cut_rat)\n",
        "    cut_h = np.int32(H * cut_rat)\n",
        "    # uniform\n",
        "    cx = np.random.randint(W)\n",
        "    cy = np.random.randint(H)\n",
        "\n",
        "    bbx1 = np.clip(cx - cut_w // 2, 0, W)\n",
        "    bby1 = np.clip(cy - cut_h // 2, 0, H)\n",
        "    bbx2 = np.clip(cx + cut_w // 2, 0, W)\n",
        "    bby2 = np.clip(cy + cut_h // 2, 0, H)\n",
        "\n",
        "    return bbx1, bby1, bbx2, bby2\n",
        "\n",
        "def train(model, train_dl, valid_dl, loss_fn, optimizer, acc_fn, epochs=1):\n",
        "    global train_loss, valid_loss\n",
        "    start = time.time()\n",
        "    model.to(device)\n",
        "    scheduler = StepLR(optimizer, step_size=15, gamma=0.1)\n",
        "    train_loss, valid_loss = [], []\n",
        "    best_acc = 0.0\n",
        "    prev_loss = None\n",
        "    for epoch in range(epochs):\n",
        "        print('Epoch {}/{}'.format(epoch, epochs - 1))\n",
        "        print('-' * 10)\n",
        "\n",
        "        for phase in ['train', 'valid']:\n",
        "            if phase == 'train':\n",
        "                model.train(True)\n",
        "                dataloader = train_dl\n",
        "            else:\n",
        "                model.train(False)\n",
        "                dataloader = valid_dl\n",
        "\n",
        "            running_loss = 0.0\n",
        "            running_acc = 0.0\n",
        "            total = 0\n",
        "\n",
        "            step = 0\n",
        "\n",
        "            # iterate over data\n",
        "            for x, y in dataloader:\n",
        "                # implement CutMix Augmentation\n",
        "                if phase == 'train' and random.random() > 0.5:\n",
        "                    rand1 = random.uniform(1,4)\n",
        "                    rand2 = random.uniform(1,4)\n",
        "\n",
        "                    for i in range(x.size(0)): # iterate over each image/mask in the batch\n",
        "                        lam = np.random.beta(rand1, rand2)\n",
        "                        rand_index = random.randrange(x.size(0))\n",
        "\n",
        "                        bbx1, bby1, bbx2, bby2 = rand_bbox(x.size(), lam)\n",
        "                        x[i, :, bbx1:bbx2, bby1:bby2] = x[rand_index, :, bbx1:bbx2, bby1:bby2] # patch image\n",
        "                        y[i, :, bbx1:bbx2, bby1:bby2] = y[rand_index, :, bbx1:bbx2, bby1:bby2] # patch mask\n",
        "\n",
        "                        # adjust lambda to exactly match pixel ratio\n",
        "                        lam = 1 - ((bbx2 - bbx1) * (bby2 - bby1) / (x.size()[-1] * x.size()[-2]))\n",
        "                        y = (y - y.min()) / (y.max() - y.min()) # renormalize again JUST in case\n",
        "\n",
        "                # move data to the device\n",
        "                x = x.to(device).float()\n",
        "                y = y.to(device).float()\n",
        "                step += 1\n",
        "\n",
        "                # forward pass\n",
        "                if phase == 'train':\n",
        "                    # zero the gradients\n",
        "                    optimizer\n",
        "                    optimizer.zero_grad()\n",
        "                    outputs = model(x)\n",
        "                    outputs= outputs[:,1,:,:]\n",
        "                    outputs= torch.nan_to_num(outputs, nan=0.0  ) ## added for blank images\n",
        "                    y = torch.nan_to_num(y, nan=0.0  )## added for blank images\n",
        "\n",
        "                    loss = loss_fn(outputs , y.squeeze(1).float() )\n",
        "                    loss.backward()\n",
        "                    optimizer.step()\n",
        "\n",
        "                else:\n",
        "                    with torch.no_grad():\n",
        "                        outputs = model(x)\n",
        "                        outputs= outputs[:,1,:,:]\n",
        "                        outputs= torch.nan_to_num(outputs, nan=0.0  ) ## added for blank images\n",
        "                        y = torch.nan_to_num(y, nan=0.0  )## added for blank images\n",
        "\n",
        "                        loss = loss_fn(outputs, y.squeeze(1).float())\n",
        "\n",
        "                # stats - whatever is the phase\n",
        "                acc = acc_fn(outputs.unsqueeze(1) , y)\n",
        "\n",
        "                running_acc  += acc\n",
        "                total += y.size(0)\n",
        "                running_loss += loss * dataloader.batch_size\n",
        "\n",
        "            epoch_loss = running_loss / len(dataloader.dataset)\n",
        "            epoch_acc = running_acc / len(dataloader.dataset)\n",
        "\n",
        "            print('{} Loss: {:.4f} Acc: {}'.format(phase, epoch_loss, epoch_acc), 'learning rate {}'.format(scheduler.get_last_lr()))\n",
        "\n",
        "            epoch_loss = epoch_loss.to('cpu').detach().numpy()\n",
        "            epoch_acc = epoch_acc.to('cpu').detach().numpy()\n",
        "            if phase=='train':\n",
        "                train_loss.append({'epochloss':epoch_loss ,'epochacc': epoch_acc })\n",
        "            else:\n",
        "                valid_loss.append({'epochloss':epoch_loss ,'epochacc': epoch_acc })\n",
        "\n",
        "            # for model saving\n",
        "            if prev_loss is None:\n",
        "              prev_loss = epoch_loss\n",
        "            if (epoch_loss <= prev_loss) and (epoch >35) :  # keeping model with the highest accuracy on validation dataset\n",
        "              name ='Allcells2_UNET_512_512'\n",
        "              torch.save(model.state_dict(), path+'/{}.pth'.format(name))\n",
        "              prev_loss = epoch_loss\n",
        "              scheduler.step()\n",
        "              print('newmodel is {}'.format(epoch))\n",
        "\n",
        "    time_elapsed = time.time() - start\n",
        "    print('Training complete in {:.0f}m {:.0f}s'.format(time_elapsed // 60, time_elapsed % 60))\n",
        "\n",
        "    return train_loss, valid_loss\n",
        "\n",
        "\n",
        "def acc_metric(predb, yb):\n",
        "    '''use this to calculate accuracy if using the nn.CrossEntropyLoss() '''\n",
        "    return (predb.argmax(dim=1) == yb.to(device)).float().mean()\n",
        "\n",
        "def acc_metric(y_pred, y_test):\n",
        "    '''use this to calculate accuracy if using the nn.BCEWithLogitsLoss()'''\n",
        "    y_pred_tag = torch.round(torch.sigmoid(y_pred))\n",
        "\n",
        "    correct_results_sum = (y_pred_tag == y_test).sum().float()\n",
        "    acc = correct_results_sum/(y_test.shape[0] * y_test.shape[1]* y_test.shape[2]* y_test.shape[3] )\n",
        "    acc = torch.round(acc * 100)\n",
        "\n",
        "    return acc\n",
        "\n",
        "def acc_metric(y_pred, y_test):\n",
        "    mask = y_test.to(device) # ensuring the test is on cuda\n",
        "    _, predicted = torch.max(y_pred.data, 1) # getting the max layer\n",
        "    total_train =  mask.nelement()\n",
        "    correct_train = predicted.eq(mask.data).sum().item()\n",
        "    train_accuracy = 100 * correct_train / total_train\n",
        "    total_train = mask.nelement()\n",
        "    return torch.tensor(train_accuracy)\n",
        "\n",
        "\n",
        "def soft_dice_loss(y_true, y_pred, epsilon=1e-6):\n",
        "    axes = tuple(range(1, len(y_pred.shape)-1))\n",
        "    numerator = 2. * torch.sum(y_pred * y_true, axes)\n",
        "    denominator = torch.sum(y_pred.pow(2) + y_true.pow(2), axes)\n",
        "\n",
        "    return 1 - torch.mean((numerator + epsilon) / (denominator + epsilon))"
      ],
      "metadata": {
        "id": "vguX57vxrT5n"
      },
      "execution_count": 17,
      "outputs": []
    },
    {
      "cell_type": "code",
      "execution_count": 18,
      "metadata": {
        "id": "yZHifxkRckKq"
      },
      "outputs": [],
      "source": [
        "import torch, gc\n",
        "\n",
        "gc.collect()\n",
        "torch.cuda.empty_cache()"
      ]
    },
    {
      "cell_type": "code",
      "execution_count": null,
      "metadata": {
        "id": "GPNgHwTwuqHH"
      },
      "outputs": [],
      "source": [
        "\n",
        "name = 'Allcellsv3_UNET_512_512'#   'DAPI_UNET_512_512' #  'Allcellsv3_UNET_512_512'#\n",
        "model.load_state_dict(torch.load(path+'/{}.pth'.format(name), map_location={'cuda:0': 'cpu'})) # to load model with cpu\n",
        "model.to(device) # will turn model for GPU or CPU depending on the device stated above"
      ]
    },
    {
      "cell_type": "code",
      "execution_count": null,
      "metadata": {
        "id": "RRbCf3nLkphW",
        "colab": {
          "base_uri": "https://localhost:8080/"
        },
        "outputId": "d201817f-ea3a-4240-b1a4-b0f5d5269fd8"
      },
      "outputs": [
        {
          "output_type": "stream",
          "name": "stdout",
          "text": [
            "Epoch 0/49\n",
            "----------\n"
          ]
        },
        {
          "output_type": "stream",
          "name": "stderr",
          "text": [
            "<ipython-input-7-179c8d0994b0>:111: RuntimeWarning: invalid value encountered in true_divide\n",
            "  mask = (mask - np.min(mask))/minmask   # normalize it to 0-1\n"
          ]
        },
        {
          "output_type": "stream",
          "name": "stdout",
          "text": [
            "train Loss: 0.6855 Acc: 97.4804916381836 learning rate [0.0001]\n",
            "valid Loss: 0.1884 Acc: 95.96749877929688 learning rate [0.0001]\n",
            "Epoch 1/49\n",
            "----------\n",
            "train Loss: 0.4403 Acc: 97.48228454589844 learning rate [0.0001]\n",
            "valid Loss: 0.1801 Acc: 95.96749877929688 learning rate [0.0001]\n",
            "Epoch 2/49\n",
            "----------\n",
            "train Loss: 0.2681 Acc: 97.50099182128906 learning rate [0.0001]\n",
            "valid Loss: 0.1566 Acc: 95.96749877929688 learning rate [0.0001]\n",
            "Epoch 3/49\n",
            "----------\n",
            "train Loss: 0.1769 Acc: 97.38833618164062 learning rate [0.0001]\n",
            "valid Loss: 0.1400 Acc: 95.96749877929688 learning rate [0.0001]\n",
            "Epoch 4/49\n",
            "----------\n",
            "train Loss: 0.1204 Acc: 97.41461181640625 learning rate [0.0001]\n",
            "valid Loss: 0.1108 Acc: 95.96749877929688 learning rate [0.0001]\n",
            "Epoch 5/49\n",
            "----------\n",
            "train Loss: 0.0913 Acc: 97.45521545410156 learning rate [0.0001]\n",
            "valid Loss: 0.1034 Acc: 95.96749877929688 learning rate [0.0001]\n",
            "Epoch 6/49\n",
            "----------\n",
            "train Loss: 0.0812 Acc: 97.45720672607422 learning rate [0.0001]\n",
            "valid Loss: 0.0931 Acc: 95.96749877929688 learning rate [0.0001]\n",
            "Epoch 7/49\n",
            "----------\n",
            "train Loss: 0.0680 Acc: 97.51074981689453 learning rate [0.0001]\n",
            "valid Loss: 0.0838 Acc: 95.96749877929688 learning rate [0.0001]\n",
            "Epoch 8/49\n",
            "----------\n",
            "train Loss: 0.0767 Acc: 97.42256927490234 learning rate [0.0001]\n",
            "valid Loss: 0.0799 Acc: 95.96749877929688 learning rate [0.0001]\n",
            "Epoch 9/49\n",
            "----------\n",
            "train Loss: 0.0620 Acc: 97.48139190673828 learning rate [0.0001]\n",
            "valid Loss: 0.0745 Acc: 95.96749877929688 learning rate [0.0001]\n",
            "Epoch 10/49\n",
            "----------\n",
            "train Loss: 0.0641 Acc: 97.32225036621094 learning rate [0.0001]\n",
            "valid Loss: 0.0740 Acc: 95.96749877929688 learning rate [0.0001]\n",
            "Epoch 11/49\n",
            "----------\n",
            "train Loss: 0.0625 Acc: 97.3659439086914 learning rate [0.0001]\n",
            "valid Loss: 0.0725 Acc: 95.96749877929688 learning rate [0.0001]\n",
            "Epoch 12/49\n",
            "----------\n",
            "train Loss: 0.0740 Acc: 97.48368072509766 learning rate [0.0001]\n",
            "valid Loss: 0.0701 Acc: 95.96749877929688 learning rate [0.0001]\n",
            "Epoch 13/49\n",
            "----------\n",
            "train Loss: 0.0559 Acc: 97.46407318115234 learning rate [0.0001]\n",
            "valid Loss: 0.0672 Acc: 95.96749877929688 learning rate [0.0001]\n",
            "Epoch 14/49\n",
            "----------\n",
            "train Loss: 0.0524 Acc: 97.4429702758789 learning rate [0.0001]\n",
            "valid Loss: 0.0652 Acc: 95.96749877929688 learning rate [0.0001]\n",
            "Epoch 15/49\n",
            "----------\n",
            "train Loss: 0.0513 Acc: 97.51203918457031 learning rate [0.0001]\n",
            "valid Loss: 0.0634 Acc: 95.96749877929688 learning rate [0.0001]\n",
            "Epoch 16/49\n",
            "----------\n",
            "train Loss: 0.0524 Acc: 97.40406036376953 learning rate [0.0001]\n",
            "valid Loss: 0.0633 Acc: 95.96749877929688 learning rate [0.0001]\n",
            "Epoch 17/49\n",
            "----------\n",
            "train Loss: 0.0513 Acc: 97.47322845458984 learning rate [0.0001]\n",
            "valid Loss: 0.0622 Acc: 95.96749877929688 learning rate [0.0001]\n",
            "Epoch 18/49\n",
            "----------\n",
            "train Loss: 0.0502 Acc: 97.42854309082031 learning rate [0.0001]\n",
            "valid Loss: 0.0628 Acc: 95.96749877929688 learning rate [0.0001]\n",
            "Epoch 19/49\n",
            "----------\n",
            "train Loss: 0.0486 Acc: 97.54338836669922 learning rate [0.0001]\n",
            "valid Loss: 0.0613 Acc: 95.96749877929688 learning rate [0.0001]\n",
            "Epoch 20/49\n",
            "----------\n",
            "train Loss: 0.0487 Acc: 97.47372436523438 learning rate [0.0001]\n",
            "valid Loss: 0.0598 Acc: 95.96749877929688 learning rate [0.0001]\n",
            "Epoch 21/49\n",
            "----------\n",
            "train Loss: 0.0465 Acc: 97.52359008789062 learning rate [0.0001]\n",
            "valid Loss: 0.0602 Acc: 95.96749877929688 learning rate [0.0001]\n",
            "Epoch 22/49\n",
            "----------\n",
            "train Loss: 0.0445 Acc: 97.55204772949219 learning rate [0.0001]\n",
            "valid Loss: 0.0597 Acc: 95.96749877929688 learning rate [0.0001]\n",
            "Epoch 23/49\n",
            "----------\n",
            "train Loss: 0.0446 Acc: 97.42526245117188 learning rate [0.0001]\n",
            "valid Loss: 0.0581 Acc: 95.96749877929688 learning rate [0.0001]\n",
            "Epoch 24/49\n",
            "----------\n",
            "train Loss: 0.0430 Acc: 97.419189453125 learning rate [0.0001]\n",
            "valid Loss: 0.0563 Acc: 95.96749877929688 learning rate [0.0001]\n",
            "Epoch 25/49\n",
            "----------\n",
            "train Loss: 0.0522 Acc: 97.40575408935547 learning rate [0.0001]\n",
            "valid Loss: 0.0588 Acc: 95.96749877929688 learning rate [0.0001]\n",
            "Epoch 26/49\n",
            "----------\n",
            "train Loss: 0.0414 Acc: 97.53125 learning rate [0.0001]\n",
            "valid Loss: 0.0569 Acc: 95.96749877929688 learning rate [0.0001]\n",
            "Epoch 27/49\n",
            "----------\n",
            "train Loss: 0.0563 Acc: 97.19615936279297 learning rate [0.0001]\n",
            "valid Loss: 0.0577 Acc: 95.96749877929688 learning rate [0.0001]\n",
            "Epoch 28/49\n",
            "----------\n",
            "train Loss: 0.0449 Acc: 97.52308654785156 learning rate [0.0001]\n",
            "valid Loss: 0.0567 Acc: 95.96749877929688 learning rate [0.0001]\n",
            "Epoch 29/49\n",
            "----------\n",
            "train Loss: 0.0419 Acc: 97.48238372802734 learning rate [0.0001]\n",
            "valid Loss: 0.0561 Acc: 95.96749877929688 learning rate [0.0001]\n",
            "Epoch 30/49\n",
            "----------\n",
            "train Loss: 0.0422 Acc: 97.56697845458984 learning rate [0.0001]\n",
            "valid Loss: 0.0560 Acc: 95.96749877929688 learning rate [0.0001]\n",
            "Epoch 31/49\n",
            "----------\n",
            "train Loss: 0.0507 Acc: 97.33429718017578 learning rate [0.0001]\n",
            "valid Loss: 0.0557 Acc: 95.96749877929688 learning rate [0.0001]\n",
            "Epoch 32/49\n",
            "----------\n",
            "train Loss: 0.0403 Acc: 97.40167236328125 learning rate [0.0001]\n",
            "valid Loss: 0.0554 Acc: 95.96749877929688 learning rate [0.0001]\n",
            "Epoch 33/49\n",
            "----------\n",
            "train Loss: 0.0498 Acc: 97.35091400146484 learning rate [0.0001]\n",
            "valid Loss: 0.0550 Acc: 95.96749877929688 learning rate [0.0001]\n",
            "Epoch 34/49\n",
            "----------\n",
            "train Loss: 0.0404 Acc: 97.43212890625 learning rate [0.0001]\n",
            "valid Loss: 0.0546 Acc: 95.96749877929688 learning rate [0.0001]\n",
            "Epoch 35/49\n",
            "----------\n",
            "train Loss: 0.0399 Acc: 97.49054718017578 learning rate [0.0001]\n",
            "valid Loss: 0.0553 Acc: 95.96749877929688 learning rate [0.0001]\n",
            "Epoch 36/49\n",
            "----------\n",
            "train Loss: 0.0394 Acc: 97.41680145263672 learning rate [0.0001]\n",
            "newmodel is 36\n",
            "valid Loss: 0.0553 Acc: 95.96749877929688 learning rate [0.0001]\n",
            "Epoch 37/49\n",
            "----------\n",
            "train Loss: 0.0418 Acc: 97.43909454345703 learning rate [0.0001]\n",
            "valid Loss: 0.0562 Acc: 95.96749877929688 learning rate [0.0001]\n",
            "Epoch 38/49\n",
            "----------\n",
            "train Loss: 0.0404 Acc: 97.47392272949219 learning rate [0.0001]\n",
            "valid Loss: 0.0543 Acc: 95.96749877929688 learning rate [0.0001]\n",
            "Epoch 39/49\n",
            "----------\n",
            "train Loss: 0.0398 Acc: 97.43919372558594 learning rate [0.0001]\n",
            "valid Loss: 0.0544 Acc: 95.96749877929688 learning rate [0.0001]\n",
            "Epoch 40/49\n",
            "----------\n",
            "train Loss: 0.0396 Acc: 97.4882583618164 learning rate [0.0001]\n",
            "valid Loss: 0.0541 Acc: 95.96749877929688 learning rate [0.0001]\n",
            "Epoch 41/49\n",
            "----------\n",
            "train Loss: 0.0400 Acc: 97.42426300048828 learning rate [0.0001]\n",
            "valid Loss: 0.0537 Acc: 95.96749877929688 learning rate [0.0001]\n",
            "Epoch 42/49\n",
            "----------\n",
            "train Loss: 0.0383 Acc: 97.44525909423828 learning rate [0.0001]\n",
            "newmodel is 42\n",
            "valid Loss: 0.0538 Acc: 95.96749877929688 learning rate [0.0001]\n",
            "Epoch 43/49\n",
            "----------\n",
            "train Loss: 0.0390 Acc: 97.43720245361328 learning rate [0.0001]\n",
            "valid Loss: 0.0539 Acc: 95.96749877929688 learning rate [0.0001]\n",
            "Epoch 44/49\n",
            "----------\n",
            "train Loss: 0.0568 Acc: 97.4650650024414 learning rate [0.0001]\n",
            "valid Loss: 0.0569 Acc: 95.96749877929688 learning rate [0.0001]\n",
            "Epoch 45/49\n",
            "----------\n",
            "train Loss: 0.0387 Acc: 97.5274658203125 learning rate [0.0001]\n",
            "valid Loss: 0.0549 Acc: 95.96749877929688 learning rate [0.0001]\n",
            "Epoch 46/49\n",
            "----------\n",
            "train Loss: 0.0370 Acc: 97.48974609375 learning rate [0.0001]\n",
            "newmodel is 46\n",
            "valid Loss: 0.0539 Acc: 95.96749877929688 learning rate [0.0001]\n",
            "Epoch 47/49\n",
            "----------\n",
            "train Loss: 0.0397 Acc: 97.46148681640625 learning rate [0.0001]\n",
            "valid Loss: 0.0533 Acc: 95.96749877929688 learning rate [0.0001]\n",
            "Epoch 48/49\n",
            "----------\n",
            "train Loss: 0.0390 Acc: 97.42694854736328 learning rate [0.0001]\n",
            "valid Loss: 0.0529 Acc: 95.96749877929688 learning rate [0.0001]\n",
            "Epoch 49/49\n",
            "----------\n",
            "train Loss: 0.0380 Acc: 97.43899536132812 learning rate [0.0001]\n",
            "valid Loss: 0.0533 Acc: 95.96749877929688 learning rate [0.0001]\n",
            "Training complete in 4m 2s\n"
          ]
        }
      ],
      "source": [
        "loss_fn = nn.BCEWithLogitsLoss() # #nn.BCEWithLogitsLoss()   # nn.CrossEntropyLoss()  nn.BCELoss() # soft_dice_loss\n",
        "\n",
        "opt =  torch.optim.Adam(model.parameters(), lr = .0001)\n",
        "train_loss, valid_loss = train(model,train_loader,test_loader, loss_fn, opt, acc_metric, epochs =50)"
      ]
    },
    {
      "cell_type": "code",
      "execution_count": null,
      "metadata": {
        "id": "A_1w5fOJzUdC"
      },
      "outputs": [],
      "source": [
        "## Saving the model\n",
        "name = 'Foci_Unet'#\n",
        "torch.save(model.state_dict(), path+'/{}.pth'.format(name))\n",
        "\n",
        "train = pd.DataFrame(train_loss)\n",
        "valid = pd.DataFrame(valid_loss)\n",
        "\n",
        "\n",
        "\n",
        "train.to_csv('train_{}'.format(name), sep = '\\t')\n",
        "\n",
        "valid.to_csv('valid_{}'.format(name), sep = '\\t')\n"
      ]
    },
    {
      "cell_type": "code",
      "execution_count": null,
      "metadata": {
        "colab": {
          "base_uri": "https://localhost:8080/",
          "height": 489
        },
        "id": "ndMLLWXhg7bp",
        "outputId": "528f0cd8-e8d1-4821-bc5d-778e1e81d494"
      },
      "outputs": [
        {
          "output_type": "execute_result",
          "data": {
            "text/plain": [
              "Text(0, 0.5, 'Loss')"
            ]
          },
          "metadata": {},
          "execution_count": 293
        },
        {
          "output_type": "display_data",
          "data": {
            "text/plain": [
              "<Figure size 640x480 with 1 Axes>"
            ],
            "image/png": "[encoded data removed]"
          },
          "metadata": {}
        }
      ],
      "source": [
        "plt.plot(train['epochloss'])\n",
        "plt.plot(valid['epochloss'])\n",
        "plt.legend(['train', 'valid'])\n",
        "plt.title('Loss Curve')\n",
        "plt.xlabel('Number of Epochs')\n",
        "plt.ylabel('Loss')"
      ]
    },
    {
      "cell_type": "code",
      "source": [
        "from skimage.segmentation import watershed\n",
        "def watershedmask(mask, nucleus ):\n",
        "    '''Here I am applying watershed to the outputted model, this will help further seperate cells that may be\n",
        "    super close to each other or any other mother cell'''\n",
        "    distance = ndimage.distance_transform_edt(nucleus)\n",
        "    local_maxi = peak_local_max(distance, indices=False, footprint=np.ones((5, 5)), labels= mask)\n",
        "    markers = morphology.label(local_maxi)\n",
        "    mask = watershed(-distance, markers, mask=mask)\n",
        "    #mask = morphology.remove_small_objects(labels, min_size=50)\n",
        "    return mask"
      ],
      "metadata": {
        "id": "3BTFYQnkbuS_"
      },
      "execution_count": null,
      "outputs": []
    },
    {
      "cell_type": "code",
      "source": [
        "path"
      ],
      "metadata": {
        "colab": {
          "base_uri": "https://localhost:8080/",
          "height": 35
        },
        "id": "cQwnrbW1U14G",
        "outputId": "762078bb-8540-42af-dce9-4486affa76ed"
      },
      "execution_count": null,
      "outputs": [
        {
          "output_type": "execute_result",
          "data": {
            "text/plain": [
              "'/content/drive/My Drive/unet/training_data'"
            ],
            "application/vnd.google.colaboratory.intrinsic+json": {
              "type": "string"
            }
          },
          "metadata": {},
          "execution_count": 93
        }
      ]
    },
    {
      "cell_type": "code",
      "execution_count": null,
      "metadata": {
        "id": "3PTwmJ0jL2fI"
      },
      "outputs": [],
      "source": [
        "name ='Foci_Unet' # #'yeazlaplacian_UNET_512_512' #'laplacian_UNET_512_512' # 'laplacian_UNET_512_512' #'yeaz_UNET_512_512'#'laplacian_UNET_512_512'#'UNET_512_512'#'MMD_VAE_preBinary_volthresh' #'63MMD_VAE_volThresh' #'MMD_VAE_preBinary_volthresh' #MMD_VAE_Binary MMD_VAE_preBinary_volthresh\n",
        "model.load_state_dict(torch.load(path+'/{}.pth'.format(name), map_location={'cuda:0': 'cpu'})) # to load model with cpu\n",
        "model.to(device) # will turn model for GPU or CPU depending on the device stated above\n",
        "model.eval()"
      ]
    },
    {
      "cell_type": "code",
      "execution_count": 30,
      "metadata": {
        "colab": {
          "base_uri": "https://localhost:8080/",
          "height": 622
        },
        "id": "1BKEHo9k-Sk6",
        "outputId": "ae8f0549-134f-44d9-b1dd-f0340e5647b0"
      },
      "outputs": [
        {
          "output_type": "stream",
          "name": "stdout",
          "text": [
            "torch.Size([25, 1, 40, 40]) torch.Size([25, 1, 40, 40])\n",
            "label tensor([[[0., 0., 0.,  ..., 0., 0., 0.],\n",
            "         [0., 0., 0.,  ..., 0., 0., 0.],\n",
            "         [0., 0., 0.,  ..., 0., 0., 0.],\n",
            "         ...,\n",
            "         [0., 0., 0.,  ..., 0., 0., 0.],\n",
            "         [0., 0., 0.,  ..., 0., 0., 0.],\n",
            "         [0., 0., 0.,  ..., 0., 0., 0.]]])\n"
          ]
        },
        {
          "output_type": "stream",
          "name": "stderr",
          "text": [
            "<ipython-input-7-a71c963db606>:111: RuntimeWarning: invalid value encountered in true_divide\n",
            "  mask = (mask - np.min(mask))/minmask   # normalize it to 0-1\n"
          ]
        },
        {
          "output_type": "execute_result",
          "data": {
            "text/plain": [
              "torch.Size([25, 1, 40, 40])"
            ]
          },
          "metadata": {},
          "execution_count": 30
        },
        {
          "output_type": "display_data",
          "data": {
            "text/plain": [
              "<Figure size 640x480 with 1 Axes>"
            ],
            "image/png": "[encoded data removed]"
          },
          "metadata": {}
        }
      ],
      "source": [
        "# Get a batch of training data\n",
        "inputs, masks = next(iter(dataloaders['val']))\n",
        "\n",
        "print(inputs.shape, masks.shape)\n",
        "#f, (ax1, ax2) = plt.subplots(1,2, figsize = (10,10))\n",
        "plt.imshow(inputs[0][0] )\n",
        "print('label', masks[0])\n",
        "#ax1.imshow(inputs[0][0])\n",
        "#ax2.imshow(masks[0][0])\n",
        "\n",
        "# grab a batch from the train loader\n",
        "batch, classes = next(iter(train_loader))\n",
        "batch.shape"
      ]
    },
    {
      "cell_type": "code",
      "source": [
        "pred = model(inputs.to(device).float()  ).to('cpu').detach().numpy()\n"
      ],
      "metadata": {
        "id": "A0AUCl4XUwx7"
      },
      "execution_count": 31,
      "outputs": []
    },
    {
      "cell_type": "code",
      "source": [
        "from pandas.core.strings.object_array import ObjectStringArrayMixin\n",
        "from scipy import ndimage\n",
        "#from skimage.morphology import watershed\n",
        "from skimage.feature import peak_local_max\n",
        "from skimage import morphology\n",
        "\n",
        "\n",
        "\n",
        "\n",
        "f, (ax1, ax2, ax3, ax4) = plt.subplots(1,4, figsize = (30,30))\n",
        "samp =0\n",
        "ax1.imshow(inputs[samp,0,:,:])\n",
        "ax2.imshow(masks[samp,:,:][0])\n",
        "\n",
        "thresh = pred[samp,1,:,:].mean()  + (.8* (pred[samp, 1, :,:]).std())\n",
        "\n",
        "sample = pred[samp, 1, :,:]\n",
        "mask = sample.copy()\n",
        "#maxgmm, mingmm = gausmix( sample )\n",
        "\n",
        "mask = mask  #>  maxgmm*1.2\n",
        "### watershed\n",
        "image = pred[samp, 1, :,:]\n",
        "#mask = watershedmask(mask,sample)\n",
        "\n",
        "#mask1 = ndi.binary_dilation(ndi.gaussian_filter(mask, sigma = 1), iterations=2)\n",
        "\n",
        "ax3.imshow(mask)\n",
        "\n",
        "maskactual=masks[samp,:,:][0].to('cpu').detach().numpy()\n",
        "\n",
        "ax4.imshow(inputs[samp,0,:,:])\n",
        "\n",
        "\n",
        "contours = find_contours(mask, .01) # finds the corresponding peaks and draws it on the picture\n",
        "for contour in contours:\n",
        "   ax4.plot(contour[:, 1], contour[:, 0], linewidth=1, color='r')\n",
        "\n",
        "\n",
        "\n",
        "ax1.set_title('brightfield')\n",
        "ax2.set_title('Mask')\n",
        "ax3.set_title('Model_Output')\n",
        "ax4.set_title('Overlay of Model output')"
      ],
      "metadata": {
        "colab": {
          "base_uri": "https://localhost:8080/",
          "height": 467
        },
        "id": "jBvZRCYnBrAs",
        "outputId": "87de451e-470d-48e9-aeb5-efa3035981ec"
      },
      "execution_count": 37,
      "outputs": [
        {
          "output_type": "execute_result",
          "data": {
            "text/plain": [
              "Text(0.5, 1.0, 'Overlay of Model output')"
            ]
          },
          "metadata": {},
          "execution_count": 37
        },
        {
          "output_type": "display_data",
          "data": {
            "text/plain": [
              "<Figure size 3000x3000 with 4 Axes>"
            ],
            "image/png": "[encoded data removed]"
          },
          "metadata": {}
        }
      ]
    }
  ],
  "metadata": {
    "accelerator": "GPU",
    "colab": {
      "machine_shape": "hm",
      "provenance": [],
      "gpuType": "T4"
    },
    "kernelspec": {
      "display_name": "Python 3",
      "name": "python3"
    }
  },
  "nbformat": 4,
  "nbformat_minor": 0
}